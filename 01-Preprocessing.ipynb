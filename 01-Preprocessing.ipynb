{
 "cells": [
  {
   "cell_type": "code",
   "execution_count": 2,
   "metadata": {},
   "outputs": [],
   "source": [
    "import pandas as pd\n",
    "import numpy as np\n",
    "import matplotlib.pyplot as plt\n",
    "import seaborn as sns\n",
    "%matplotlib inline\n",
    "\n",
    "\n",
    "from sklearn.decomposition import PCA\n",
    "from sklearn.preprocessing import StandardScaler\n",
    "\n",
    "import lightgbm as lgb\n",
    "from sklearn.model_selection import train_test_split\n",
    "from sklearn.preprocessing import LabelEncoder\n",
    "\n",
    "from fbprophet import Prophet"
   ]
  },
  {
   "cell_type": "code",
   "execution_count": null,
   "metadata": {},
   "outputs": [],
   "source": []
  },
  {
   "cell_type": "code",
   "execution_count": 3,
   "metadata": {},
   "outputs": [],
   "source": [
    "weather = pd.read_csv('Jan_16/HistoricalWeather.csv')\n",
    "weather.columns = ['Date', 'Region', 'Parameter', 'count', 'min', 'max', 'mean', 'variance']\n",
    "weather['Date'] = pd.to_datetime(weather['Date'])"
   ]
  },
  {
   "cell_type": "code",
   "execution_count": 4,
   "metadata": {},
   "outputs": [
    {
     "data": {
      "text/html": [
       "<div>\n",
       "<style scoped>\n",
       "    .dataframe tbody tr th:only-of-type {\n",
       "        vertical-align: middle;\n",
       "    }\n",
       "\n",
       "    .dataframe tbody tr th {\n",
       "        vertical-align: top;\n",
       "    }\n",
       "\n",
       "    .dataframe thead th {\n",
       "        text-align: right;\n",
       "    }\n",
       "</style>\n",
       "<table border=\"1\" class=\"dataframe\">\n",
       "  <thead>\n",
       "    <tr style=\"text-align: right;\">\n",
       "      <th></th>\n",
       "      <th>Date</th>\n",
       "      <th>Region</th>\n",
       "      <th>Parameter</th>\n",
       "      <th>count</th>\n",
       "      <th>min</th>\n",
       "      <th>max</th>\n",
       "      <th>mean</th>\n",
       "      <th>variance</th>\n",
       "    </tr>\n",
       "  </thead>\n",
       "  <tbody>\n",
       "    <tr>\n",
       "      <th>0</th>\n",
       "      <td>2005-01-01</td>\n",
       "      <td>NSW</td>\n",
       "      <td>Precipitation</td>\n",
       "      <td>8.002343e+05</td>\n",
       "      <td>0.000000</td>\n",
       "      <td>1.836935</td>\n",
       "      <td>0.044274</td>\n",
       "      <td>0.028362</td>\n",
       "    </tr>\n",
       "    <tr>\n",
       "      <th>1</th>\n",
       "      <td>2005-01-01</td>\n",
       "      <td>NSW</td>\n",
       "      <td>RelativeHumidity</td>\n",
       "      <td>8.002343e+05</td>\n",
       "      <td>13.877194</td>\n",
       "      <td>80.522964</td>\n",
       "      <td>36.355567</td>\n",
       "      <td>253.559937</td>\n",
       "    </tr>\n",
       "    <tr>\n",
       "      <th>2</th>\n",
       "      <td>2005-01-01</td>\n",
       "      <td>NSW</td>\n",
       "      <td>SoilWaterContent</td>\n",
       "      <td>8.002343e+05</td>\n",
       "      <td>0.002245</td>\n",
       "      <td>0.414305</td>\n",
       "      <td>0.170931</td>\n",
       "      <td>0.007758</td>\n",
       "    </tr>\n",
       "    <tr>\n",
       "      <th>3</th>\n",
       "      <td>2005-01-01</td>\n",
       "      <td>NSW</td>\n",
       "      <td>SolarRadiation</td>\n",
       "      <td>8.002343e+05</td>\n",
       "      <td>14.515009</td>\n",
       "      <td>32.169781</td>\n",
       "      <td>26.749389</td>\n",
       "      <td>6.078587</td>\n",
       "    </tr>\n",
       "    <tr>\n",
       "      <th>4</th>\n",
       "      <td>2005-01-01</td>\n",
       "      <td>NSW</td>\n",
       "      <td>Temperature</td>\n",
       "      <td>8.002343e+05</td>\n",
       "      <td>14.485785</td>\n",
       "      <td>35.878704</td>\n",
       "      <td>27.341182</td>\n",
       "      <td>18.562212</td>\n",
       "    </tr>\n",
       "    <tr>\n",
       "      <th>...</th>\n",
       "      <td>...</td>\n",
       "      <td>...</td>\n",
       "      <td>...</td>\n",
       "      <td>...</td>\n",
       "      <td>...</td>\n",
       "      <td>...</td>\n",
       "      <td>...</td>\n",
       "      <td>...</td>\n",
       "    </tr>\n",
       "    <tr>\n",
       "      <th>245716</th>\n",
       "      <td>2021-01-09</td>\n",
       "      <td>WA</td>\n",
       "      <td>RelativeHumidity</td>\n",
       "      <td>2.528546e+06</td>\n",
       "      <td>11.286411</td>\n",
       "      <td>84.094559</td>\n",
       "      <td>25.539865</td>\n",
       "      <td>219.361327</td>\n",
       "    </tr>\n",
       "    <tr>\n",
       "      <th>245717</th>\n",
       "      <td>2021-01-09</td>\n",
       "      <td>WA</td>\n",
       "      <td>SoilWaterContent</td>\n",
       "      <td>2.528546e+06</td>\n",
       "      <td>0.000000</td>\n",
       "      <td>0.374027</td>\n",
       "      <td>0.052128</td>\n",
       "      <td>0.001778</td>\n",
       "    </tr>\n",
       "    <tr>\n",
       "      <th>245718</th>\n",
       "      <td>2021-01-09</td>\n",
       "      <td>WA</td>\n",
       "      <td>SolarRadiation</td>\n",
       "      <td>2.528546e+06</td>\n",
       "      <td>18.421680</td>\n",
       "      <td>32.355438</td>\n",
       "      <td>29.266381</td>\n",
       "      <td>9.209243</td>\n",
       "    </tr>\n",
       "    <tr>\n",
       "      <th>245719</th>\n",
       "      <td>2021-01-09</td>\n",
       "      <td>WA</td>\n",
       "      <td>Temperature</td>\n",
       "      <td>2.528546e+06</td>\n",
       "      <td>20.764585</td>\n",
       "      <td>36.807751</td>\n",
       "      <td>31.943233</td>\n",
       "      <td>6.610068</td>\n",
       "    </tr>\n",
       "    <tr>\n",
       "      <th>245720</th>\n",
       "      <td>2021-01-09</td>\n",
       "      <td>WA</td>\n",
       "      <td>WindSpeed</td>\n",
       "      <td>2.528546e+06</td>\n",
       "      <td>1.316897</td>\n",
       "      <td>9.305047</td>\n",
       "      <td>3.847769</td>\n",
       "      <td>0.879385</td>\n",
       "    </tr>\n",
       "  </tbody>\n",
       "</table>\n",
       "<p>245721 rows × 8 columns</p>\n",
       "</div>"
      ],
      "text/plain": [
       "             Date Region         Parameter         count        min  \\\n",
       "0      2005-01-01    NSW     Precipitation  8.002343e+05   0.000000   \n",
       "1      2005-01-01    NSW  RelativeHumidity  8.002343e+05  13.877194   \n",
       "2      2005-01-01    NSW  SoilWaterContent  8.002343e+05   0.002245   \n",
       "3      2005-01-01    NSW    SolarRadiation  8.002343e+05  14.515009   \n",
       "4      2005-01-01    NSW       Temperature  8.002343e+05  14.485785   \n",
       "...           ...    ...               ...           ...        ...   \n",
       "245716 2021-01-09     WA  RelativeHumidity  2.528546e+06  11.286411   \n",
       "245717 2021-01-09     WA  SoilWaterContent  2.528546e+06   0.000000   \n",
       "245718 2021-01-09     WA    SolarRadiation  2.528546e+06  18.421680   \n",
       "245719 2021-01-09     WA       Temperature  2.528546e+06  20.764585   \n",
       "245720 2021-01-09     WA         WindSpeed  2.528546e+06   1.316897   \n",
       "\n",
       "              max       mean    variance  \n",
       "0        1.836935   0.044274    0.028362  \n",
       "1       80.522964  36.355567  253.559937  \n",
       "2        0.414305   0.170931    0.007758  \n",
       "3       32.169781  26.749389    6.078587  \n",
       "4       35.878704  27.341182   18.562212  \n",
       "...           ...        ...         ...  \n",
       "245716  84.094559  25.539865  219.361327  \n",
       "245717   0.374027   0.052128    0.001778  \n",
       "245718  32.355438  29.266381    9.209243  \n",
       "245719  36.807751  31.943233    6.610068  \n",
       "245720   9.305047   3.847769    0.879385  \n",
       "\n",
       "[245721 rows x 8 columns]"
      ]
     },
     "execution_count": 4,
     "metadata": {},
     "output_type": "execute_result"
    }
   ],
   "source": [
    "weather"
   ]
  },
  {
   "cell_type": "code",
   "execution_count": null,
   "metadata": {},
   "outputs": [],
   "source": []
  },
  {
   "cell_type": "code",
   "execution_count": null,
   "metadata": {},
   "outputs": [],
   "source": []
  },
  {
   "cell_type": "code",
   "execution_count": null,
   "metadata": {},
   "outputs": [],
   "source": []
  },
  {
   "cell_type": "code",
   "execution_count": 9,
   "metadata": {},
   "outputs": [],
   "source": [
    "def region_dataframe(region):\n",
    "    \"\"\"\n",
    "    returns dataframe with the following related to specific region:\n",
    "    estimated_fire_area\n",
    "    mean_Precipitation\n",
    "    mean_RelativeHumidity\n",
    "    mean_SoilWaterContent\n",
    "    mean_SolarRadiation\n",
    "    mean_Temperature\n",
    "    mean_Windspeed\n",
    "    vegetation_index_mean\n",
    "    \"\"\"\n",
    "    \n",
    "    wildfires = pd.read_csv('Jan_16/Historical_Wildfires_BASE4.csv')\n",
    "    wildfires['Date'] = pd.to_datetime(wildfires['Date'])\n",
    "    wildfires = pd.pivot(wildfires, index = 'Date', columns = 'Region', values = ['Estimated_fire_area', 'Count'])\n",
    "    columns = []\n",
    "    for i,x in wildfires.columns:\n",
    "        columns.append('{}_{}'.format(i,x))\n",
    "    wildfires.columns = columns\n",
    "    \n",
    "    \n",
    "    # Instantiating another dataframe with a daterange and merge to find the missing date.\n",
    "    dummy = pd.DataFrame(index = pd.date_range(start = '2005-01-01', end = '2021-01-09'))\n",
    "\n",
    "\n",
    "    # 2020-03-06 have missing values for all 7 states.\n",
    "    wildfires = pd.merge(wildfires, dummy, how = 'outer', left_index= True, right_index=True)\n",
    "    wildfires.fillna(0, inplace=True)\n",
    "    print(wildfires.shape)\n",
    "\n",
    "    df = wildfires[['Estimated_fire_area_{}'.format(region), 'Count_{}'.format(region)]]\n",
    "    \n",
    "    \n",
    "    weather = pd.read_csv('Jan_16/HistoricalWeather.csv')\n",
    "    weather.columns = ['Date', 'Region', 'Parameter', 'count', 'min', 'max', 'mean', 'variance']\n",
    "    weather['Date'] = pd.to_datetime(weather['Date'])\n",
    "    weather = weather.loc[weather['Region'].eq(region)]\n",
    "    weather_pivot = pd.pivot(weather, index=['Date'], columns = ['Parameter', 'Region'], values = 'mean')\n",
    "\n",
    "    columns = []\n",
    "    for i,x in weather_pivot.columns:\n",
    "        columns.append('mean_{}_{}'.format(i,x))\n",
    "    weather_pivot.columns = columns\n",
    "    weather_pivot.fillna(method = 'ffill', inplace=True)\n",
    "    \n",
    "    \n",
    "    \n",
    "    \n",
    "    # Here we have monthly data that needs to be changed to daily.\n",
    "    vegetation = pd.read_csv('Jan_16/VegetationIndex.csv')\n",
    "    vegetation['Date'] = pd.to_datetime(vegetation['Date'])\n",
    "    vegetation = vegetation.loc[vegetation['Region'].eq(region)]\n",
    "\n",
    "    vegetation_pivot = pd.pivot(vegetation, index='Date', columns = 'Region').resample('1D').mean()\n",
    "    vegetation_pivot = vegetation_pivot[['Vegetation_index_mean']]\n",
    "    vegetation_pivot = vegetation_pivot[:'2020-12-01'].interpolate()\n",
    "    vegetation_pivot = vegetation_pivot.unstack().reset_index()\n",
    "    vegetation_pivot.columns = ['param', 'region', 'ds', 'y']\n",
    "    vegetation_pivot = vegetation_pivot[['ds', 'y']]\n",
    "    \n",
    "    \n",
    "    m = Prophet(\n",
    "    changepoint_prior_scale= 30,\n",
    "    holidays_prior_scale = 20,\n",
    "    seasonality_prior_scale = 35,\n",
    "    n_changepoints = 100,\n",
    "    seasonality_mode = 'additive',\n",
    "    daily_seasonality = False,\n",
    "    weekly_seasonality=False,\n",
    "    yearly_seasonality = False\n",
    "        ).add_seasonality(name = 'monthly', period = 30.5, fourier_order=12\n",
    "        ).add_seasonality(name = 'weekly', period = 7, fourier_order = 20\n",
    "        ).add_seasonality(name = 'yearly', period = 365.25, fourier_order = 20\n",
    "        ).add_seasonality(name = 'quarterly', period = 365.25/4, fourier_order = 5, prior_scale=15)\n",
    "    \n",
    "    print('fitting vegetation for {}'.format(region))\n",
    "    m.fit(vegetation_pivot)\n",
    "    future = m.make_future_dataframe(periods=52)\n",
    "    pred = m.predict(future)\n",
    "    vegetation_pivot = pred[['ds', 'yhat']]\n",
    "    vegetation_pivot.rename(columns = {'ds':'Date', 'yhat':'Vegetation_index_mean_{}'.format(region)}, inplace= True)\n",
    "    vegetation_pivot.set_index('Date', inplace=True)\n",
    "    \n",
    "#     for i in vegetation_pivot.columns:\n",
    "#         vegetation_pivot[i] = vegetation_pivot[i].interpolate()\n",
    "#     dummy = pd.DataFrame(index = pd.date_range(start = '2020-12-02', end = '2021-01-08'))\n",
    "#     vegetation_pivot = pd.concat([vegetation_pivot, dummy], axis = 0)\n",
    "#     for i in vegetation_pivot.columns:\n",
    "#         vegetation_pivot[i] = vegetation_pivot[i].fillna(method='ffill')\n",
    "\n",
    "        \n",
    "        \n",
    "#     columns = []\n",
    "#     for i,x in vegetation_pivot.columns:\n",
    "#         columns.append('{}_{}'.format(i,x))\n",
    "#     vegetation_pivot.columns = columns\n",
    "\n",
    "    df = pd.concat([df, weather_pivot, vegetation_pivot], axis = 1)\n",
    "\n",
    "    df.reset_index(inplace=True)\n",
    "    df.rename(columns ={'index':'Date'}, inplace=True)\n",
    "    \n",
    "    return df\n"
   ]
  },
  {
   "cell_type": "code",
   "execution_count": 14,
   "metadata": {},
   "outputs": [],
   "source": [
    "regions = ['NSW', 'NT', 'QL', 'SA', 'TA', 'VI', 'WA']"
   ]
  },
  {
   "cell_type": "code",
   "execution_count": 15,
   "metadata": {},
   "outputs": [
    {
     "name": "stdout",
     "output_type": "stream",
     "text": [
      "(5859, 14)\n",
      "fitting vegetation for NSW\n"
     ]
    },
    {
     "name": "stderr",
     "output_type": "stream",
     "text": [
      "C:\\Users\\albert\\Anaconda3\\lib\\site-packages\\pandas\\core\\frame.py:4446: SettingWithCopyWarning:\n",
      "\n",
      "\n",
      "A value is trying to be set on a copy of a slice from a DataFrame\n",
      "\n",
      "See the caveats in the documentation: https://pandas.pydata.org/pandas-docs/stable/user_guide/indexing.html#returning-a-view-versus-a-copy\n",
      "\n"
     ]
    },
    {
     "name": "stdout",
     "output_type": "stream",
     "text": [
      "(5859, 14)\n",
      "fitting vegetation for NT\n"
     ]
    },
    {
     "name": "stderr",
     "output_type": "stream",
     "text": [
      "C:\\Users\\albert\\Anaconda3\\lib\\site-packages\\pandas\\core\\frame.py:4446: SettingWithCopyWarning:\n",
      "\n",
      "\n",
      "A value is trying to be set on a copy of a slice from a DataFrame\n",
      "\n",
      "See the caveats in the documentation: https://pandas.pydata.org/pandas-docs/stable/user_guide/indexing.html#returning-a-view-versus-a-copy\n",
      "\n"
     ]
    },
    {
     "name": "stdout",
     "output_type": "stream",
     "text": [
      "(5859, 14)\n",
      "fitting vegetation for QL\n"
     ]
    },
    {
     "name": "stderr",
     "output_type": "stream",
     "text": [
      "C:\\Users\\albert\\Anaconda3\\lib\\site-packages\\pandas\\core\\frame.py:4446: SettingWithCopyWarning:\n",
      "\n",
      "\n",
      "A value is trying to be set on a copy of a slice from a DataFrame\n",
      "\n",
      "See the caveats in the documentation: https://pandas.pydata.org/pandas-docs/stable/user_guide/indexing.html#returning-a-view-versus-a-copy\n",
      "\n"
     ]
    },
    {
     "name": "stdout",
     "output_type": "stream",
     "text": [
      "(5859, 14)\n",
      "fitting vegetation for SA\n"
     ]
    },
    {
     "name": "stderr",
     "output_type": "stream",
     "text": [
      "C:\\Users\\albert\\Anaconda3\\lib\\site-packages\\pandas\\core\\frame.py:4446: SettingWithCopyWarning:\n",
      "\n",
      "\n",
      "A value is trying to be set on a copy of a slice from a DataFrame\n",
      "\n",
      "See the caveats in the documentation: https://pandas.pydata.org/pandas-docs/stable/user_guide/indexing.html#returning-a-view-versus-a-copy\n",
      "\n"
     ]
    },
    {
     "name": "stdout",
     "output_type": "stream",
     "text": [
      "(5859, 14)\n",
      "fitting vegetation for TA\n"
     ]
    },
    {
     "name": "stderr",
     "output_type": "stream",
     "text": [
      "C:\\Users\\albert\\Anaconda3\\lib\\site-packages\\pandas\\core\\frame.py:4446: SettingWithCopyWarning:\n",
      "\n",
      "\n",
      "A value is trying to be set on a copy of a slice from a DataFrame\n",
      "\n",
      "See the caveats in the documentation: https://pandas.pydata.org/pandas-docs/stable/user_guide/indexing.html#returning-a-view-versus-a-copy\n",
      "\n"
     ]
    },
    {
     "name": "stdout",
     "output_type": "stream",
     "text": [
      "(5859, 14)\n",
      "fitting vegetation for VI\n"
     ]
    },
    {
     "name": "stderr",
     "output_type": "stream",
     "text": [
      "C:\\Users\\albert\\Anaconda3\\lib\\site-packages\\pandas\\core\\frame.py:4446: SettingWithCopyWarning:\n",
      "\n",
      "\n",
      "A value is trying to be set on a copy of a slice from a DataFrame\n",
      "\n",
      "See the caveats in the documentation: https://pandas.pydata.org/pandas-docs/stable/user_guide/indexing.html#returning-a-view-versus-a-copy\n",
      "\n"
     ]
    },
    {
     "name": "stdout",
     "output_type": "stream",
     "text": [
      "(5859, 14)\n",
      "fitting vegetation for WA\n"
     ]
    },
    {
     "name": "stderr",
     "output_type": "stream",
     "text": [
      "C:\\Users\\albert\\Anaconda3\\lib\\site-packages\\pandas\\core\\frame.py:4446: SettingWithCopyWarning:\n",
      "\n",
      "\n",
      "A value is trying to be set on a copy of a slice from a DataFrame\n",
      "\n",
      "See the caveats in the documentation: https://pandas.pydata.org/pandas-docs/stable/user_guide/indexing.html#returning-a-view-versus-a-copy\n",
      "\n"
     ]
    }
   ],
   "source": [
    "for i in regions:\n",
    "    region_dataframe(i).to_csv('{}_iso.csv'.format(i), index = False, header= True)"
   ]
  },
  {
   "cell_type": "code",
   "execution_count": null,
   "metadata": {},
   "outputs": [],
   "source": []
  }
 ],
 "metadata": {
  "kernelspec": {
   "display_name": "Python 3",
   "language": "python",
   "name": "python3"
  },
  "language_info": {
   "codemirror_mode": {
    "name": "ipython",
    "version": 3
   },
   "file_extension": ".py",
   "mimetype": "text/x-python",
   "name": "python",
   "nbconvert_exporter": "python",
   "pygments_lexer": "ipython3",
   "version": "3.7.4"
  }
 },
 "nbformat": 4,
 "nbformat_minor": 4
}
