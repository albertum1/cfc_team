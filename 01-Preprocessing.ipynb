{
 "cells": [
  {
   "cell_type": "code",
   "execution_count": 2,
   "metadata": {},
   "outputs": [],
   "source": [
    "import pandas as pd\n",
    "import numpy as np\n",
    "import matplotlib.pyplot as plt\n",
    "import seaborn as sns\n",
    "%matplotlib inline\n",
    "\n",
    "\n",
    "from sklearn.decomposition import PCA\n",
    "from sklearn.preprocessing import StandardScaler\n",
    "\n",
    "import lightgbm as lgb\n",
    "from sklearn.model_selection import train_test_split\n",
    "from sklearn.preprocessing import LabelEncoder\n"
   ]
  },
  {
   "cell_type": "code",
   "execution_count": 3,
   "metadata": {},
   "outputs": [],
   "source": [
    "def region_dataframe(region):\n",
    "    \"\"\"\n",
    "    returns dataframe with the following related to specific region:\n",
    "    estimated_fire_area\n",
    "    mean_Precipitation\n",
    "    mean_RelativeHumidity\n",
    "    mean_SoilWaterContent\n",
    "    mean_SolarRadiation\n",
    "    mean_Temperature\n",
    "    mean_Windspeed\n",
    "    vegetation_index_mean\n",
    "    \"\"\"\n",
    "    \n",
    "    wildfires = pd.read_csv('Data/Historical_wildfires.csv')\n",
    "    wildfires['Date'] = pd.to_datetime(wildfires['Date'])\n",
    "    wildfires = pd.pivot(wildfires, index = 'Date', columns = 'Region', values = 'Estimated_fire_area')\n",
    "    # Instantiating another dataframe with a daterange and merge to find the missing date.\n",
    "    dummy = pd.DataFrame(index = pd.date_range(start = '2005-01-01', end = '2020-10-31'))\n",
    "\n",
    "\n",
    "    # 2020-03-06 have missing values for all 7 states.\n",
    "    wildfires = pd.merge(wildfires, dummy, how = 'outer', left_index= True, right_index=True)\n",
    "\n",
    "    df = wildfires[[region]]\n",
    "    \n",
    "    \n",
    "    weather = pd.read_csv('Data/HistoricalWeather.csv')\n",
    "    weather.columns = ['Date', 'Region', 'Parameter', 'count', 'min', 'max', 'mean', 'variance']\n",
    "    weather['Date'] = pd.to_datetime(weather['Date'])\n",
    "    weather = weather.loc[weather['Region'].eq(region)]\n",
    "    weather_pivot = pd.pivot(weather, index=['Date'], columns = ['Parameter', 'Region'], values = 'mean')\n",
    "\n",
    "    columns = []\n",
    "    for i,x in weather_pivot.columns:\n",
    "        columns.append('mean_{}_{}'.format(i,x))\n",
    "    weather_pivot.columns = columns\n",
    "    \n",
    "    # Here we have monthly data that needs to be changed to daily.\n",
    "    vegetation = pd.read_csv('Data/VegetationIndex.csv')\n",
    "    vegetation['Date'] = pd.to_datetime(vegetation['Date'])\n",
    "    vegetation = vegetation.loc[vegetation['Region'].eq(region)]\n",
    "\n",
    "    vegetation_pivot = pd.pivot(vegetation, index='Date', columns = 'Region').resample('1D').mean()\n",
    "    vegetation_pivot = vegetation_pivot[['Vegetation_index_mean']]\n",
    "    for i in vegetation_pivot.columns:\n",
    "        vegetation_pivot[i] = vegetation_pivot[i].interpolate()\n",
    "    dummy = pd.DataFrame(index = pd.date_range(start = '2020-10-02', end = '2020-10-31'))\n",
    "    vegetation_pivot = pd.concat([vegetation_pivot, dummy], axis = 0)\n",
    "    for i in vegetation_pivot.columns:\n",
    "        vegetation_pivot[i] = vegetation_pivot[i].fillna(method='ffill')\n",
    "\n",
    "        \n",
    "        \n",
    "    columns = []\n",
    "    for i,x in vegetation_pivot.columns:\n",
    "        columns.append('{}_{}'.format(i,x))\n",
    "    vegetation_pivot.columns = columns\n",
    "\n",
    "    df = pd.concat([df, weather_pivot, vegetation_pivot], axis = 1)\n",
    "\n",
    "    return df\n"
   ]
  },
  {
   "cell_type": "code",
   "execution_count": 4,
   "metadata": {},
   "outputs": [],
   "source": [
    "regions = ['NSW', 'NT', 'QL', 'SA', 'TA', 'VI', 'WA']"
   ]
  },
  {
   "cell_type": "code",
   "execution_count": 8,
   "metadata": {},
   "outputs": [],
   "source": [
    "for i in regions:\n",
    "    region_dataframe(i).to_csv('{}_iso.csv'.format(i), index = True, header= True)"
   ]
  },
  {
   "cell_type": "code",
   "execution_count": null,
   "metadata": {},
   "outputs": [],
   "source": []
  },
  {
   "cell_type": "code",
   "execution_count": null,
   "metadata": {},
   "outputs": [],
   "source": []
  },
  {
   "cell_type": "code",
   "execution_count": null,
   "metadata": {},
   "outputs": [],
   "source": []
  }
 ],
 "metadata": {
  "kernelspec": {
   "display_name": "Python 3",
   "language": "python",
   "name": "python3"
  },
  "language_info": {
   "codemirror_mode": {
    "name": "ipython",
    "version": 3
   },
   "file_extension": ".py",
   "mimetype": "text/x-python",
   "name": "python",
   "nbconvert_exporter": "python",
   "pygments_lexer": "ipython3",
   "version": "3.7.4"
  }
 },
 "nbformat": 4,
 "nbformat_minor": 4
}
