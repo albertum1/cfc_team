{
 "cells": [
  {
   "cell_type": "code",
   "execution_count": 6,
   "metadata": {},
   "outputs": [],
   "source": [
    "import pandas as pd\n",
    "import numpy as np\n",
    "import matplotlib.pyplot as plt\n",
    "import seaborn as sns\n",
    "%matplotlib inline\n",
    "\n",
    "\n",
    "from sklearn.decomposition import PCA\n",
    "from sklearn.preprocessing import StandardScaler\n",
    "\n",
    "import lightgbm as lgb\n",
    "from sklearn.model_selection import train_test_split\n",
    "from sklearn.preprocessing import LabelEncoder\n",
    "\n",
    "from fbprophet import Prophet"
   ]
  },
  {
   "cell_type": "code",
   "execution_count": 7,
   "metadata": {},
   "outputs": [],
   "source": [
    "def region_dataframe(region):\n",
    "    \"\"\"\n",
    "    returns dataframe with the following related to specific region:\n",
    "    estimated_fire_area\n",
    "    mean_Precipitation\n",
    "    mean_RelativeHumidity\n",
    "    mean_SoilWaterContent\n",
    "    mean_SolarRadiation\n",
    "    mean_Temperature\n",
    "    mean_Windspeed\n",
    "    vegetation_index_mean\n",
    "    \"\"\"\n",
    "    \n",
    "    wildfires = pd.read_csv('Jan_09/Historical_wildfires.csv')\n",
    "    wildfires['Date'] = pd.to_datetime(wildfires['Date'])\n",
    "    wildfires = pd.pivot(wildfires, index = 'Date', columns = 'Region', values = ['Estimated_fire_area', 'Count'])\n",
    "    columns = []\n",
    "    for i,x in wildfires.columns:\n",
    "        columns.append('{}_{}'.format(i,x))\n",
    "    wildfires.columns = columns\n",
    "    \n",
    "    \n",
    "    # Instantiating another dataframe with a daterange and merge to find the missing date.\n",
    "    dummy = pd.DataFrame(index = pd.date_range(start = '2005-01-01', end = '2021-01-02'))\n",
    "\n",
    "\n",
    "    # 2020-03-06 have missing values for all 7 states.\n",
    "    wildfires = pd.merge(wildfires, dummy, how = 'outer', left_index= True, right_index=True)\n",
    "    wildfires.fillna(0, inplace=True)\n",
    "    print(wildfires.shape)\n",
    "\n",
    "    df = wildfires[['Estimated_fire_area_{}'.format(region), 'Count_{}'.format(region)]]\n",
    "    \n",
    "    \n",
    "    weather = pd.read_csv('Jan_09/HistoricalWeather.csv')\n",
    "    weather.columns = ['Date', 'Region', 'Parameter', 'count', 'min', 'max', 'mean', 'variance']\n",
    "    weather['Date'] = pd.to_datetime(weather['Date'])\n",
    "    weather = weather.loc[weather['Region'].eq(region)]\n",
    "    weather_pivot = pd.pivot(weather, index=['Date'], columns = ['Parameter', 'Region'], values = 'mean')\n",
    "\n",
    "    columns = []\n",
    "    for i,x in weather_pivot.columns:\n",
    "        columns.append('mean_{}_{}'.format(i,x))\n",
    "    weather_pivot.columns = columns\n",
    "    weather_pivot.fillna(method = 'ffill', inplace=True)\n",
    "    \n",
    "    \n",
    "    \n",
    "    \n",
    "    # Here we have monthly data that needs to be changed to daily.\n",
    "    vegetation = pd.read_csv('Jan_09/VegetationIndex.csv')\n",
    "    vegetation['Date'] = pd.to_datetime(vegetation['Date'])\n",
    "    vegetation = vegetation.loc[vegetation['Region'].eq(region)]\n",
    "\n",
    "    vegetation_pivot = pd.pivot(vegetation, index='Date', columns = 'Region').resample('1D').mean()\n",
    "    vegetation_pivot = vegetation_pivot[['Vegetation_index_mean']]\n",
    "    vegetation_pivot = vegetation_pivot[:'2020-10-01'].interpolate()\n",
    "    vegetation_pivot = vegetation_pivot.unstack().reset_index()\n",
    "    vegetation_pivot.columns = ['param', 'region', 'ds', 'y']\n",
    "    vegetation_pivot = vegetation_pivot[['ds', 'y']]\n",
    "    \n",
    "    \n",
    "    m = Prophet(\n",
    "    changepoint_prior_scale= 30,\n",
    "    holidays_prior_scale = 20,\n",
    "    seasonality_prior_scale = 35,\n",
    "    n_changepoints = 100,\n",
    "    seasonality_mode = 'additive',\n",
    "    daily_seasonality = False,\n",
    "    weekly_seasonality=False,\n",
    "    yearly_seasonality = False\n",
    "        ).add_seasonality(name = 'monthly', period = 30.5, fourier_order=12\n",
    "        ).add_seasonality(name = 'weekly', period = 7, fourier_order = 20\n",
    "        ).add_seasonality(name = 'yearly', period = 365.25, fourier_order = 20\n",
    "        ).add_seasonality(name = 'quarterly', period = 365.25/4, fourier_order = 5, prior_scale=15)\n",
    "    \n",
    "    print('fitting vegetation for {}'.format(region))\n",
    "    m.fit(vegetation_pivot)\n",
    "    future = m.make_future_dataframe(periods=93)\n",
    "    pred = m.predict(future)\n",
    "    vegetation_pivot = pred[['ds', 'yhat']]\n",
    "    vegetation_pivot.rename(columns = {'ds':'Date', 'yhat':'Vegetation_index_mean_{}'.format(region)}, inplace= True)\n",
    "    vegetation_pivot.set_index('Date', inplace=True)\n",
    "    \n",
    "#     for i in vegetation_pivot.columns:\n",
    "#         vegetation_pivot[i] = vegetation_pivot[i].interpolate()\n",
    "#     dummy = pd.DataFrame(index = pd.date_range(start = '2020-12-02', end = '2021-01-08'))\n",
    "#     vegetation_pivot = pd.concat([vegetation_pivot, dummy], axis = 0)\n",
    "#     for i in vegetation_pivot.columns:\n",
    "#         vegetation_pivot[i] = vegetation_pivot[i].fillna(method='ffill')\n",
    "\n",
    "        \n",
    "        \n",
    "#     columns = []\n",
    "#     for i,x in vegetation_pivot.columns:\n",
    "#         columns.append('{}_{}'.format(i,x))\n",
    "#     vegetation_pivot.columns = columns\n",
    "\n",
    "    df = pd.concat([df, weather_pivot, vegetation_pivot], axis = 1)\n",
    "\n",
    "    df.reset_index(inplace=True)\n",
    "    df.rename(columns ={'index':'Date'}, inplace=True)\n",
    "    \n",
    "    return df\n"
   ]
  },
  {
   "cell_type": "code",
   "execution_count": 8,
   "metadata": {},
   "outputs": [],
   "source": [
    "regions = ['NSW', 'NT', 'QL', 'SA', 'TA', 'VI', 'WA']"
   ]
  },
  {
   "cell_type": "code",
   "execution_count": 9,
   "metadata": {},
   "outputs": [
    {
     "name": "stdout",
     "output_type": "stream",
     "text": [
      "(5852, 14)\n"
     ]
    },
    {
     "name": "stderr",
     "output_type": "stream",
     "text": [
      "INFO:numexpr.utils:NumExpr defaulting to 4 threads.\n"
     ]
    },
    {
     "name": "stdout",
     "output_type": "stream",
     "text": [
      "fitting vegetation for NSW\n"
     ]
    },
    {
     "name": "stderr",
     "output_type": "stream",
     "text": [
      "C:\\Users\\albert\\Anaconda3\\lib\\site-packages\\pandas\\core\\frame.py:4446: SettingWithCopyWarning:\n",
      "\n",
      "\n",
      "A value is trying to be set on a copy of a slice from a DataFrame\n",
      "\n",
      "See the caveats in the documentation: https://pandas.pydata.org/pandas-docs/stable/user_guide/indexing.html#returning-a-view-versus-a-copy\n",
      "\n"
     ]
    },
    {
     "name": "stdout",
     "output_type": "stream",
     "text": [
      "(5852, 14)\n",
      "fitting vegetation for NT\n"
     ]
    },
    {
     "name": "stderr",
     "output_type": "stream",
     "text": [
      "C:\\Users\\albert\\Anaconda3\\lib\\site-packages\\pandas\\core\\frame.py:4446: SettingWithCopyWarning:\n",
      "\n",
      "\n",
      "A value is trying to be set on a copy of a slice from a DataFrame\n",
      "\n",
      "See the caveats in the documentation: https://pandas.pydata.org/pandas-docs/stable/user_guide/indexing.html#returning-a-view-versus-a-copy\n",
      "\n"
     ]
    },
    {
     "name": "stdout",
     "output_type": "stream",
     "text": [
      "(5852, 14)\n",
      "fitting vegetation for QL\n"
     ]
    },
    {
     "name": "stderr",
     "output_type": "stream",
     "text": [
      "C:\\Users\\albert\\Anaconda3\\lib\\site-packages\\pandas\\core\\frame.py:4446: SettingWithCopyWarning:\n",
      "\n",
      "\n",
      "A value is trying to be set on a copy of a slice from a DataFrame\n",
      "\n",
      "See the caveats in the documentation: https://pandas.pydata.org/pandas-docs/stable/user_guide/indexing.html#returning-a-view-versus-a-copy\n",
      "\n"
     ]
    },
    {
     "name": "stdout",
     "output_type": "stream",
     "text": [
      "(5852, 14)\n",
      "fitting vegetation for SA\n"
     ]
    },
    {
     "name": "stderr",
     "output_type": "stream",
     "text": [
      "C:\\Users\\albert\\Anaconda3\\lib\\site-packages\\pandas\\core\\frame.py:4446: SettingWithCopyWarning:\n",
      "\n",
      "\n",
      "A value is trying to be set on a copy of a slice from a DataFrame\n",
      "\n",
      "See the caveats in the documentation: https://pandas.pydata.org/pandas-docs/stable/user_guide/indexing.html#returning-a-view-versus-a-copy\n",
      "\n"
     ]
    },
    {
     "name": "stdout",
     "output_type": "stream",
     "text": [
      "(5852, 14)\n",
      "fitting vegetation for TA\n"
     ]
    },
    {
     "name": "stderr",
     "output_type": "stream",
     "text": [
      "C:\\Users\\albert\\Anaconda3\\lib\\site-packages\\pandas\\core\\frame.py:4446: SettingWithCopyWarning:\n",
      "\n",
      "\n",
      "A value is trying to be set on a copy of a slice from a DataFrame\n",
      "\n",
      "See the caveats in the documentation: https://pandas.pydata.org/pandas-docs/stable/user_guide/indexing.html#returning-a-view-versus-a-copy\n",
      "\n"
     ]
    },
    {
     "name": "stdout",
     "output_type": "stream",
     "text": [
      "(5852, 14)\n",
      "fitting vegetation for VI\n"
     ]
    },
    {
     "name": "stderr",
     "output_type": "stream",
     "text": [
      "C:\\Users\\albert\\Anaconda3\\lib\\site-packages\\pandas\\core\\frame.py:4446: SettingWithCopyWarning:\n",
      "\n",
      "\n",
      "A value is trying to be set on a copy of a slice from a DataFrame\n",
      "\n",
      "See the caveats in the documentation: https://pandas.pydata.org/pandas-docs/stable/user_guide/indexing.html#returning-a-view-versus-a-copy\n",
      "\n"
     ]
    },
    {
     "name": "stdout",
     "output_type": "stream",
     "text": [
      "(5852, 14)\n",
      "fitting vegetation for WA\n"
     ]
    },
    {
     "name": "stderr",
     "output_type": "stream",
     "text": [
      "C:\\Users\\albert\\Anaconda3\\lib\\site-packages\\pandas\\core\\frame.py:4446: SettingWithCopyWarning:\n",
      "\n",
      "\n",
      "A value is trying to be set on a copy of a slice from a DataFrame\n",
      "\n",
      "See the caveats in the documentation: https://pandas.pydata.org/pandas-docs/stable/user_guide/indexing.html#returning-a-view-versus-a-copy\n",
      "\n"
     ]
    }
   ],
   "source": [
    "for i in regions:\n",
    "    region_dataframe(i).to_csv('{}_iso.csv'.format(i), index = False, header= True)"
   ]
  },
  {
   "cell_type": "code",
   "execution_count": null,
   "metadata": {},
   "outputs": [],
   "source": []
  }
 ],
 "metadata": {
  "kernelspec": {
   "display_name": "Python 3",
   "language": "python",
   "name": "python3"
  },
  "language_info": {
   "codemirror_mode": {
    "name": "ipython",
    "version": 3
   },
   "file_extension": ".py",
   "mimetype": "text/x-python",
   "name": "python",
   "nbconvert_exporter": "python",
   "pygments_lexer": "ipython3",
   "version": "3.7.4"
  }
 },
 "nbformat": 4,
 "nbformat_minor": 4
}
