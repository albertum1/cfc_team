{
 "cells": [
  {
   "cell_type": "code",
   "execution_count": 191,
   "metadata": {},
   "outputs": [],
   "source": [
    "import pandas as pd\n",
    "import numpy as np\n",
    "import matplotlib.pyplot as plt\n",
    "import seaborn as sns\n",
    "%matplotlib inline\n",
    "\n",
    "\n",
    "from sklearn.decomposition import PCA\n",
    "from sklearn.preprocessing import StandardScaler\n",
    "\n",
    "import lightgbm as lgb\n",
    "from sklearn.model_selection import train_test_split\n",
    "from sklearn.preprocessing import LabelEncoder\n",
    "\n",
    "\n",
    "from statsmodels.tsa.seasonal import seasonal_decompose\n",
    "\n",
    "from statsmodels.tsa.stattools import adfuller"
   ]
  },
  {
   "cell_type": "markdown",
   "metadata": {},
   "source": [
    "### Historical_Wildfires.csv\n",
    "For now, I will isolate the y_target, 'Estimated_fire_area' in order to see how many missing values we have on our dependant variable."
   ]
  },
  {
   "cell_type": "code",
   "execution_count": 159,
   "metadata": {},
   "outputs": [
    {
     "data": {
      "text/html": [
       "<div>\n",
       "<style scoped>\n",
       "    .dataframe tbody tr th:only-of-type {\n",
       "        vertical-align: middle;\n",
       "    }\n",
       "\n",
       "    .dataframe tbody tr th {\n",
       "        vertical-align: top;\n",
       "    }\n",
       "\n",
       "    .dataframe thead th {\n",
       "        text-align: right;\n",
       "    }\n",
       "</style>\n",
       "<table border=\"1\" class=\"dataframe\">\n",
       "  <thead>\n",
       "    <tr style=\"text-align: right;\">\n",
       "      <th></th>\n",
       "      <th>NSW</th>\n",
       "      <th>NT</th>\n",
       "      <th>QL</th>\n",
       "      <th>SA</th>\n",
       "      <th>TA</th>\n",
       "      <th>VI</th>\n",
       "      <th>WA</th>\n",
       "    </tr>\n",
       "  </thead>\n",
       "  <tbody>\n",
       "    <tr>\n",
       "      <th>2005-01-01</th>\n",
       "      <td>0.00000</td>\n",
       "      <td>4.945000</td>\n",
       "      <td>38.831579</td>\n",
       "      <td>0.0</td>\n",
       "      <td>0.0</td>\n",
       "      <td>0.0</td>\n",
       "      <td>36.382500</td>\n",
       "    </tr>\n",
       "    <tr>\n",
       "      <th>2005-01-02</th>\n",
       "      <td>0.00000</td>\n",
       "      <td>1.320000</td>\n",
       "      <td>64.464286</td>\n",
       "      <td>0.0</td>\n",
       "      <td>0.0</td>\n",
       "      <td>2.8</td>\n",
       "      <td>148.106471</td>\n",
       "    </tr>\n",
       "    <tr>\n",
       "      <th>2005-01-03</th>\n",
       "      <td>0.00000</td>\n",
       "      <td>88.740000</td>\n",
       "      <td>47.386585</td>\n",
       "      <td>0.0</td>\n",
       "      <td>0.0</td>\n",
       "      <td>1.0</td>\n",
       "      <td>60.632258</td>\n",
       "    </tr>\n",
       "    <tr>\n",
       "      <th>2005-01-04</th>\n",
       "      <td>8.68000</td>\n",
       "      <td>0.000000</td>\n",
       "      <td>30.100000</td>\n",
       "      <td>0.0</td>\n",
       "      <td>0.0</td>\n",
       "      <td>0.0</td>\n",
       "      <td>86.374167</td>\n",
       "    </tr>\n",
       "    <tr>\n",
       "      <th>2005-01-05</th>\n",
       "      <td>16.61125</td>\n",
       "      <td>0.000000</td>\n",
       "      <td>4.000000</td>\n",
       "      <td>0.0</td>\n",
       "      <td>0.0</td>\n",
       "      <td>0.0</td>\n",
       "      <td>31.378947</td>\n",
       "    </tr>\n",
       "    <tr>\n",
       "      <th>...</th>\n",
       "      <td>...</td>\n",
       "      <td>...</td>\n",
       "      <td>...</td>\n",
       "      <td>...</td>\n",
       "      <td>...</td>\n",
       "      <td>...</td>\n",
       "      <td>...</td>\n",
       "    </tr>\n",
       "    <tr>\n",
       "      <th>2020-10-27</th>\n",
       "      <td>1.21000</td>\n",
       "      <td>12.750000</td>\n",
       "      <td>78.670769</td>\n",
       "      <td>0.0</td>\n",
       "      <td>0.0</td>\n",
       "      <td>0.0</td>\n",
       "      <td>32.970000</td>\n",
       "    </tr>\n",
       "    <tr>\n",
       "      <th>2020-10-28</th>\n",
       "      <td>3.00000</td>\n",
       "      <td>144.990566</td>\n",
       "      <td>119.608649</td>\n",
       "      <td>0.0</td>\n",
       "      <td>0.0</td>\n",
       "      <td>2.0</td>\n",
       "      <td>20.840625</td>\n",
       "    </tr>\n",
       "    <tr>\n",
       "      <th>2020-10-29</th>\n",
       "      <td>0.00000</td>\n",
       "      <td>53.462326</td>\n",
       "      <td>249.090625</td>\n",
       "      <td>0.0</td>\n",
       "      <td>0.0</td>\n",
       "      <td>0.0</td>\n",
       "      <td>136.083077</td>\n",
       "    </tr>\n",
       "    <tr>\n",
       "      <th>2020-10-30</th>\n",
       "      <td>1.32000</td>\n",
       "      <td>171.325280</td>\n",
       "      <td>282.538983</td>\n",
       "      <td>0.0</td>\n",
       "      <td>0.0</td>\n",
       "      <td>2.0</td>\n",
       "      <td>42.397895</td>\n",
       "    </tr>\n",
       "    <tr>\n",
       "      <th>2020-10-31</th>\n",
       "      <td>20.27600</td>\n",
       "      <td>115.588461</td>\n",
       "      <td>297.627826</td>\n",
       "      <td>0.0</td>\n",
       "      <td>0.0</td>\n",
       "      <td>0.0</td>\n",
       "      <td>107.370851</td>\n",
       "    </tr>\n",
       "  </tbody>\n",
       "</table>\n",
       "<p>5783 rows × 7 columns</p>\n",
       "</div>"
      ],
      "text/plain": [
       "                 NSW          NT          QL   SA   TA   VI          WA\n",
       "2005-01-01   0.00000    4.945000   38.831579  0.0  0.0  0.0   36.382500\n",
       "2005-01-02   0.00000    1.320000   64.464286  0.0  0.0  2.8  148.106471\n",
       "2005-01-03   0.00000   88.740000   47.386585  0.0  0.0  1.0   60.632258\n",
       "2005-01-04   8.68000    0.000000   30.100000  0.0  0.0  0.0   86.374167\n",
       "2005-01-05  16.61125    0.000000    4.000000  0.0  0.0  0.0   31.378947\n",
       "...              ...         ...         ...  ...  ...  ...         ...\n",
       "2020-10-27   1.21000   12.750000   78.670769  0.0  0.0  0.0   32.970000\n",
       "2020-10-28   3.00000  144.990566  119.608649  0.0  0.0  2.0   20.840625\n",
       "2020-10-29   0.00000   53.462326  249.090625  0.0  0.0  0.0  136.083077\n",
       "2020-10-30   1.32000  171.325280  282.538983  0.0  0.0  2.0   42.397895\n",
       "2020-10-31  20.27600  115.588461  297.627826  0.0  0.0  0.0  107.370851\n",
       "\n",
       "[5783 rows x 7 columns]"
      ]
     },
     "execution_count": 159,
     "metadata": {},
     "output_type": "execute_result"
    }
   ],
   "source": [
    "wildfires = pd.read_csv('Historical_wildfires.csv')\n",
    "wildfires['Date'] = pd.to_datetime(wildfires['Date'])\n",
    "wildfires = pd.pivot(wildfires, index = 'Date', columns = 'Region', values = 'Estimated_fire_area')\n",
    "\n",
    "\n",
    "# Instantiating another dataframe with a daterange and merge to find the missing date.\n",
    "dummy = pd.DataFrame(index = pd.date_range(start = '2005-01-01', end = '2020-10-31'))\n",
    "# dummy['Date'] = pd.date_range(start = '2005-01-01', end = '2020-10-31')\n",
    "\n",
    "\n",
    "# 2020-03-06 have missing values for all 7 states.\n",
    "wildfires_merge = pd.merge(wildfires, dummy, how = 'outer', left_index =True, right_index=True)\n",
    "wildfires_merge\n",
    "\n",
    "wildfires = wildfires_merge.copy(deep=True)\n",
    "wildfires.fillna(0, inplace=True)\n",
    "wildfires"
   ]
  },
  {
   "cell_type": "code",
   "execution_count": 160,
   "metadata": {},
   "outputs": [
    {
     "data": {
      "image/png": "[encoded data removed]",
      "text/plain": [
       "<Figure size 432x288 with 1 Axes>"
      ]
     },
     "metadata": {
      "needs_background": "light"
     },
     "output_type": "display_data"
    }
   ],
   "source": [
    "from statsmodels.graphics.tsaplots import plot_acf, plot_pacf\n",
    "plot_pacf(np.log1p(wildfires[:'2015']['QL']), lags = 28, alpha = 0.05, method = 'ols');"
   ]
  },
  {
   "cell_type": "code",
   "execution_count": null,
   "metadata": {},
   "outputs": [],
   "source": []
  },
  {
   "cell_type": "code",
   "execution_count": 163,
   "metadata": {},
   "outputs": [],
   "source": []
  },
  {
   "cell_type": "code",
   "execution_count": 190,
   "metadata": {},
   "outputs": [
    {
     "data": {
      "image/png": "[encoded data removed]",
      "text/plain": [
       "<Figure size 432x288 with 4 Axes>"
      ]
     },
     "metadata": {
      "needs_background": "light"
     },
     "output_type": "display_data"
    }
   ],
   "source": [
    "result = seasonal_decompose(np.log1p(wildfires['QL']), model = 'additive', period = 365)\n",
    "result.plot();"
   ]
  },
  {
   "cell_type": "code",
   "execution_count": 193,
   "metadata": {},
   "outputs": [
    {
     "data": {
      "text/plain": [
       "(-6.221917236576774,\n",
       " 5.1984141461888144e-08,\n",
       " 31,\n",
       " 5751,\n",
       " {'1%': -3.4314875797597644,\n",
       "  '5%': -2.8620427016919505,\n",
       "  '10%': -2.5670375862348798},\n",
       " 72274.317226506)"
      ]
     },
     "execution_count": 193,
     "metadata": {},
     "output_type": "execute_result"
    }
   ],
   "source": [
    "adfuller(wildfires['QL'])"
   ]
  },
  {
   "cell_type": "code",
   "execution_count": 192,
   "metadata": {},
   "outputs": [
    {
     "data": {
      "text/plain": [
       "(-5.200458768812008,\n",
       " 8.773142280676678e-06,\n",
       " 33,\n",
       " 5749,\n",
       " {'1%': -3.431487975685421,\n",
       "  '5%': -2.8620428766198245,\n",
       "  '10%': -2.5670376793540988},\n",
       " 15271.115823256372)"
      ]
     },
     "execution_count": 192,
     "metadata": {},
     "output_type": "execute_result"
    }
   ],
   "source": [
    "adfuller(np.log1p(wildfires['QL']))"
   ]
  },
  {
   "cell_type": "code",
   "execution_count": null,
   "metadata": {},
   "outputs": [],
   "source": []
  },
  {
   "cell_type": "code",
   "execution_count": null,
   "metadata": {},
   "outputs": [],
   "source": []
  },
  {
   "cell_type": "code",
   "execution_count": null,
   "metadata": {},
   "outputs": [],
   "source": []
  },
  {
   "cell_type": "code",
   "execution_count": 166,
   "metadata": {},
   "outputs": [
    {
     "data": {
      "text/plain": [
       "<matplotlib.axes._subplots.AxesSubplot at 0x1d3066c8>"
      ]
     },
     "execution_count": 166,
     "metadata": {},
     "output_type": "execute_result"
    },
    {
     "data": {
      "image/png": "[encoded data removed]",
      "text/plain": [
       "<Figure size 432x288 with 1 Axes>"
      ]
     },
     "metadata": {
      "needs_background": "light"
     },
     "output_type": "display_data"
    }
   ],
   "source": [
    "wildfires['QL'].plot()"
   ]
  },
  {
   "cell_type": "code",
   "execution_count": 197,
   "metadata": {},
   "outputs": [
    {
     "data": {
      "text/html": [
       "<div>\n",
       "<style scoped>\n",
       "    .dataframe tbody tr th:only-of-type {\n",
       "        vertical-align: middle;\n",
       "    }\n",
       "\n",
       "    .dataframe tbody tr th {\n",
       "        vertical-align: top;\n",
       "    }\n",
       "\n",
       "    .dataframe thead th {\n",
       "        text-align: right;\n",
       "    }\n",
       "</style>\n",
       "<table border=\"1\" class=\"dataframe\">\n",
       "  <thead>\n",
       "    <tr style=\"text-align: right;\">\n",
       "      <th></th>\n",
       "      <th>QL</th>\n",
       "    </tr>\n",
       "  </thead>\n",
       "  <tbody>\n",
       "    <tr>\n",
       "      <th>2005-01-01</th>\n",
       "      <td>38.831579</td>\n",
       "    </tr>\n",
       "    <tr>\n",
       "      <th>2005-01-02</th>\n",
       "      <td>64.464286</td>\n",
       "    </tr>\n",
       "    <tr>\n",
       "      <th>2005-01-03</th>\n",
       "      <td>47.386585</td>\n",
       "    </tr>\n",
       "    <tr>\n",
       "      <th>2005-01-04</th>\n",
       "      <td>30.100000</td>\n",
       "    </tr>\n",
       "    <tr>\n",
       "      <th>2005-01-05</th>\n",
       "      <td>4.000000</td>\n",
       "    </tr>\n",
       "    <tr>\n",
       "      <th>...</th>\n",
       "      <td>...</td>\n",
       "    </tr>\n",
       "    <tr>\n",
       "      <th>2020-10-27</th>\n",
       "      <td>78.670769</td>\n",
       "    </tr>\n",
       "    <tr>\n",
       "      <th>2020-10-28</th>\n",
       "      <td>119.608649</td>\n",
       "    </tr>\n",
       "    <tr>\n",
       "      <th>2020-10-29</th>\n",
       "      <td>249.090625</td>\n",
       "    </tr>\n",
       "    <tr>\n",
       "      <th>2020-10-30</th>\n",
       "      <td>282.538983</td>\n",
       "    </tr>\n",
       "    <tr>\n",
       "      <th>2020-10-31</th>\n",
       "      <td>297.627826</td>\n",
       "    </tr>\n",
       "  </tbody>\n",
       "</table>\n",
       "<p>5783 rows × 1 columns</p>\n",
       "</div>"
      ],
      "text/plain": [
       "                    QL\n",
       "2005-01-01   38.831579\n",
       "2005-01-02   64.464286\n",
       "2005-01-03   47.386585\n",
       "2005-01-04   30.100000\n",
       "2005-01-05    4.000000\n",
       "...                ...\n",
       "2020-10-27   78.670769\n",
       "2020-10-28  119.608649\n",
       "2020-10-29  249.090625\n",
       "2020-10-30  282.538983\n",
       "2020-10-31  297.627826\n",
       "\n",
       "[5783 rows x 1 columns]"
      ]
     },
     "execution_count": 197,
     "metadata": {},
     "output_type": "execute_result"
    }
   ],
   "source": [
    "_queens_log = wildfires[['QL']].copy(deep=True)\n",
    "_queens_log"
   ]
  },
  {
   "cell_type": "code",
   "execution_count": 198,
   "metadata": {},
   "outputs": [
    {
     "data": {
      "text/plain": [
       "<matplotlib.axes._subplots.AxesSubplot at 0x21219688>"
      ]
     },
     "execution_count": 198,
     "metadata": {},
     "output_type": "execute_result"
    },
    {
     "data": {
      "image/png": "[encoded data removed]",
      "text/plain": [
       "<Figure size 432x288 with 1 Axes>"
      ]
     },
     "metadata": {
      "needs_background": "light"
     },
     "output_type": "display_data"
    }
   ],
   "source": [
    "_queens_log.plot()"
   ]
  },
  {
   "cell_type": "code",
   "execution_count": 210,
   "metadata": {},
   "outputs": [],
   "source": [
    "import datetime\n",
    "# datetime.datetime.timestamp(pd.to_datetime('2020-01-15')) \n",
    "# _jan = (datetime.datetime.timestamp(pd.to_datetime('2020-01-15')) - datetime.datetime.timestamp(pd.to_datetime('2005-01-15'))) / 15\n",
    "# _yearly = _queens_log.index.map(datetime.datetime.timestamp) % _jan\n",
    "_day_of_year = [15.5, 45, 75.5, 106, 136.5, 167, 197.5, 228.5, 259, 289.5, 320, 350.5]\n",
    "for i, x in zip(range(1,13), _day_of_year):\n",
    "    _queens_log['month_{}'.format(i)] = np.where(_queens_log.index.month == i, 1, 0)"
   ]
  },
  {
   "cell_type": "code",
   "execution_count": 212,
   "metadata": {},
   "outputs": [
    {
     "data": {
      "image/png": "[encoded data removed]",
      "text/plain": [
       "<Figure size 1008x720 with 1 Axes>"
      ]
     },
     "metadata": {
      "needs_background": "light"
     },
     "output_type": "display_data"
    }
   ],
   "source": [
    "plt.figure(figsize=(14,10))\n",
    "plt.plot(_queens_log['2005-7':'2006-7']['month_1'])\n",
    "# plt.plot(_queens_log[:'2006-12']['month_2'])\n",
    "# plt.plot(_queens_log[:'2006-12']['month_11'])\n",
    "plt.plot(_queens_log['2005-7':'2006-7']['month_12'])\n",
    "plt.axvline(x=pd.to_datetime('2006-01-01'), color = 'r', linestyle = '--');\n"
   ]
  },
  {
   "cell_type": "code",
   "execution_count": 203,
   "metadata": {},
   "outputs": [
    {
     "data": {
      "text/html": [
       "<div>\n",
       "<style scoped>\n",
       "    .dataframe tbody tr th:only-of-type {\n",
       "        vertical-align: middle;\n",
       "    }\n",
       "\n",
       "    .dataframe tbody tr th {\n",
       "        vertical-align: top;\n",
       "    }\n",
       "\n",
       "    .dataframe thead th {\n",
       "        text-align: right;\n",
       "    }\n",
       "</style>\n",
       "<table border=\"1\" class=\"dataframe\">\n",
       "  <thead>\n",
       "    <tr style=\"text-align: right;\">\n",
       "      <th></th>\n",
       "      <th>QL</th>\n",
       "      <th>month_1</th>\n",
       "      <th>month_2</th>\n",
       "      <th>month_3</th>\n",
       "      <th>month_4</th>\n",
       "      <th>month_5</th>\n",
       "      <th>month_6</th>\n",
       "      <th>month_7</th>\n",
       "      <th>month_8</th>\n",
       "      <th>month_9</th>\n",
       "      <th>month_10</th>\n",
       "      <th>month_11</th>\n",
       "      <th>month_12</th>\n",
       "    </tr>\n",
       "  </thead>\n",
       "  <tbody>\n",
       "    <tr>\n",
       "      <th>2005-01-01</th>\n",
       "      <td>38.831579</td>\n",
       "      <td>1</td>\n",
       "      <td>0</td>\n",
       "      <td>0</td>\n",
       "      <td>0</td>\n",
       "      <td>0</td>\n",
       "      <td>0</td>\n",
       "      <td>0</td>\n",
       "      <td>0</td>\n",
       "      <td>0</td>\n",
       "      <td>0</td>\n",
       "      <td>0</td>\n",
       "      <td>0</td>\n",
       "    </tr>\n",
       "    <tr>\n",
       "      <th>2005-01-02</th>\n",
       "      <td>64.464286</td>\n",
       "      <td>1</td>\n",
       "      <td>0</td>\n",
       "      <td>0</td>\n",
       "      <td>0</td>\n",
       "      <td>0</td>\n",
       "      <td>0</td>\n",
       "      <td>0</td>\n",
       "      <td>0</td>\n",
       "      <td>0</td>\n",
       "      <td>0</td>\n",
       "      <td>0</td>\n",
       "      <td>0</td>\n",
       "    </tr>\n",
       "    <tr>\n",
       "      <th>2005-01-03</th>\n",
       "      <td>47.386585</td>\n",
       "      <td>1</td>\n",
       "      <td>0</td>\n",
       "      <td>0</td>\n",
       "      <td>0</td>\n",
       "      <td>0</td>\n",
       "      <td>0</td>\n",
       "      <td>0</td>\n",
       "      <td>0</td>\n",
       "      <td>0</td>\n",
       "      <td>0</td>\n",
       "      <td>0</td>\n",
       "      <td>0</td>\n",
       "    </tr>\n",
       "    <tr>\n",
       "      <th>2005-01-04</th>\n",
       "      <td>30.100000</td>\n",
       "      <td>1</td>\n",
       "      <td>0</td>\n",
       "      <td>0</td>\n",
       "      <td>0</td>\n",
       "      <td>0</td>\n",
       "      <td>0</td>\n",
       "      <td>0</td>\n",
       "      <td>0</td>\n",
       "      <td>0</td>\n",
       "      <td>0</td>\n",
       "      <td>0</td>\n",
       "      <td>0</td>\n",
       "    </tr>\n",
       "    <tr>\n",
       "      <th>2005-01-05</th>\n",
       "      <td>4.000000</td>\n",
       "      <td>1</td>\n",
       "      <td>0</td>\n",
       "      <td>0</td>\n",
       "      <td>0</td>\n",
       "      <td>0</td>\n",
       "      <td>0</td>\n",
       "      <td>0</td>\n",
       "      <td>0</td>\n",
       "      <td>0</td>\n",
       "      <td>0</td>\n",
       "      <td>0</td>\n",
       "      <td>0</td>\n",
       "    </tr>\n",
       "    <tr>\n",
       "      <th>...</th>\n",
       "      <td>...</td>\n",
       "      <td>...</td>\n",
       "      <td>...</td>\n",
       "      <td>...</td>\n",
       "      <td>...</td>\n",
       "      <td>...</td>\n",
       "      <td>...</td>\n",
       "      <td>...</td>\n",
       "      <td>...</td>\n",
       "      <td>...</td>\n",
       "      <td>...</td>\n",
       "      <td>...</td>\n",
       "      <td>...</td>\n",
       "    </tr>\n",
       "    <tr>\n",
       "      <th>2019-10-27</th>\n",
       "      <td>50.888889</td>\n",
       "      <td>0</td>\n",
       "      <td>0</td>\n",
       "      <td>0</td>\n",
       "      <td>0</td>\n",
       "      <td>0</td>\n",
       "      <td>0</td>\n",
       "      <td>0</td>\n",
       "      <td>0</td>\n",
       "      <td>0</td>\n",
       "      <td>1</td>\n",
       "      <td>0</td>\n",
       "      <td>0</td>\n",
       "    </tr>\n",
       "    <tr>\n",
       "      <th>2019-10-28</th>\n",
       "      <td>87.723636</td>\n",
       "      <td>0</td>\n",
       "      <td>0</td>\n",
       "      <td>0</td>\n",
       "      <td>0</td>\n",
       "      <td>0</td>\n",
       "      <td>0</td>\n",
       "      <td>0</td>\n",
       "      <td>0</td>\n",
       "      <td>0</td>\n",
       "      <td>1</td>\n",
       "      <td>0</td>\n",
       "      <td>0</td>\n",
       "    </tr>\n",
       "    <tr>\n",
       "      <th>2019-10-29</th>\n",
       "      <td>11.215556</td>\n",
       "      <td>0</td>\n",
       "      <td>0</td>\n",
       "      <td>0</td>\n",
       "      <td>0</td>\n",
       "      <td>0</td>\n",
       "      <td>0</td>\n",
       "      <td>0</td>\n",
       "      <td>0</td>\n",
       "      <td>0</td>\n",
       "      <td>1</td>\n",
       "      <td>0</td>\n",
       "      <td>0</td>\n",
       "    </tr>\n",
       "    <tr>\n",
       "      <th>2019-10-30</th>\n",
       "      <td>0.000000</td>\n",
       "      <td>0</td>\n",
       "      <td>0</td>\n",
       "      <td>0</td>\n",
       "      <td>0</td>\n",
       "      <td>0</td>\n",
       "      <td>0</td>\n",
       "      <td>0</td>\n",
       "      <td>0</td>\n",
       "      <td>0</td>\n",
       "      <td>1</td>\n",
       "      <td>0</td>\n",
       "      <td>0</td>\n",
       "    </tr>\n",
       "    <tr>\n",
       "      <th>2019-10-31</th>\n",
       "      <td>25.846154</td>\n",
       "      <td>0</td>\n",
       "      <td>0</td>\n",
       "      <td>0</td>\n",
       "      <td>0</td>\n",
       "      <td>0</td>\n",
       "      <td>0</td>\n",
       "      <td>0</td>\n",
       "      <td>0</td>\n",
       "      <td>0</td>\n",
       "      <td>1</td>\n",
       "      <td>0</td>\n",
       "      <td>0</td>\n",
       "    </tr>\n",
       "  </tbody>\n",
       "</table>\n",
       "<p>5417 rows × 13 columns</p>\n",
       "</div>"
      ],
      "text/plain": [
       "                   QL  month_1  month_2  month_3  month_4  month_5  month_6  \\\n",
       "2005-01-01  38.831579        1        0        0        0        0        0   \n",
       "2005-01-02  64.464286        1        0        0        0        0        0   \n",
       "2005-01-03  47.386585        1        0        0        0        0        0   \n",
       "2005-01-04  30.100000        1        0        0        0        0        0   \n",
       "2005-01-05   4.000000        1        0        0        0        0        0   \n",
       "...               ...      ...      ...      ...      ...      ...      ...   \n",
       "2019-10-27  50.888889        0        0        0        0        0        0   \n",
       "2019-10-28  87.723636        0        0        0        0        0        0   \n",
       "2019-10-29  11.215556        0        0        0        0        0        0   \n",
       "2019-10-30   0.000000        0        0        0        0        0        0   \n",
       "2019-10-31  25.846154        0        0        0        0        0        0   \n",
       "\n",
       "            month_7  month_8  month_9  month_10  month_11  month_12  \n",
       "2005-01-01        0        0        0         0         0         0  \n",
       "2005-01-02        0        0        0         0         0         0  \n",
       "2005-01-03        0        0        0         0         0         0  \n",
       "2005-01-04        0        0        0         0         0         0  \n",
       "2005-01-05        0        0        0         0         0         0  \n",
       "...             ...      ...      ...       ...       ...       ...  \n",
       "2019-10-27        0        0        0         1         0         0  \n",
       "2019-10-28        0        0        0         1         0         0  \n",
       "2019-10-29        0        0        0         1         0         0  \n",
       "2019-10-30        0        0        0         1         0         0  \n",
       "2019-10-31        0        0        0         1         0         0  \n",
       "\n",
       "[5417 rows x 13 columns]"
      ]
     },
     "execution_count": 203,
     "metadata": {},
     "output_type": "execute_result"
    }
   ],
   "source": [
    "train = _queens_log[:'2019-10-31']\n",
    "test = _queens_log['2019-11-01':'2020-02-29']\n",
    "train"
   ]
  },
  {
   "cell_type": "code",
   "execution_count": 204,
   "metadata": {},
   "outputs": [
    {
     "name": "stderr",
     "output_type": "stream",
     "text": [
      "C:\\Users\\albert\\Anaconda3\\lib\\site-packages\\statsmodels\\tsa\\base\\tsa_model.py:162: ValueWarning: No frequency information was provided, so inferred frequency D will be used.\n",
      "  % freq, ValueWarning)\n"
     ]
    }
   ],
   "source": [
    "exog_train = train.iloc[:,1:]\n",
    "exog_test = test.iloc[:, 1:]\n",
    "\n",
    "model_SARIMAX = SARIMAX(train['QL'], order = (2,0,0), trend = 'n', freq = 'D', exog = exog_train,\n",
    "                       enforce_stationarity=False, enforce_invertibility = False)\n",
    "\n",
    "results = model_SARIMAX.fit(maxiter=1000)\n",
    "\n",
    "pred = results.predict('2019-11-01', '2020-02-29', exog= exog_test)"
   ]
  },
  {
   "cell_type": "code",
   "execution_count": 206,
   "metadata": {},
   "outputs": [
    {
     "data": {
      "text/plain": [
       "[<matplotlib.lines.Line2D at 0x2109ba48>]"
      ]
     },
     "execution_count": 206,
     "metadata": {},
     "output_type": "execute_result"
    },
    {
     "data": {
      "image/png": "[encoded data removed]",
      "text/plain": [
       "<Figure size 1008x720 with 1 Axes>"
      ]
     },
     "metadata": {
      "needs_background": "light"
     },
     "output_type": "display_data"
    }
   ],
   "source": [
    "plt.figure(figsize=(14,10))\n",
    "plt.plot(pred)\n",
    "plt.plot(test['QL'])\n"
   ]
  },
  {
   "cell_type": "code",
   "execution_count": null,
   "metadata": {},
   "outputs": [],
   "source": []
  },
  {
   "cell_type": "code",
   "execution_count": null,
   "metadata": {},
   "outputs": [],
   "source": []
  },
  {
   "cell_type": "code",
   "execution_count": null,
   "metadata": {},
   "outputs": [],
   "source": []
  },
  {
   "cell_type": "code",
   "execution_count": 232,
   "metadata": {},
   "outputs": [],
   "source": [
    "_list = []\n",
    "for i in range(15):\n",
    "    _list.append(np.array(_day_of_year) + (i * 365.2425))\n",
    "    \n",
    "_array = np.array(_list)\n",
    "\n",
    "_index = np.array(range(1, len(_queens_log) + 1))\n",
    "\n",
    "for i,month in zip(_array.T, range(1,13)):\n",
    "    _list = []\n",
    "    _index = np.array(range(1, len(_queens_log) + 1))\n",
    "    \n",
    "    for each in i:\n",
    "        _list.append(np.exp(-1/(305)*(_index - each)**2))\n",
    "    \n",
    "    _list = np.array(_list)\n",
    "    _max = _list.max(axis = 0)\n",
    "    _queens_log['month_{}'.format(month)] = _max"
   ]
  },
  {
   "cell_type": "code",
   "execution_count": 233,
   "metadata": {},
   "outputs": [
    {
     "data": {
      "text/plain": [
       "<matplotlib.lines.Line2D at 0x24851c88>"
      ]
     },
     "execution_count": 233,
     "metadata": {},
     "output_type": "execute_result"
    },
    {
     "data": {
      "image/png": "[encoded data removed]",
      "text/plain": [
       "<Figure size 1008x720 with 1 Axes>"
      ]
     },
     "metadata": {
      "needs_background": "light"
     },
     "output_type": "display_data"
    }
   ],
   "source": [
    "plt.figure(figsize=(14,10))\n",
    "plt.plot(_queens_log['2005-7':'2006-7']['month_1'])\n",
    "# plt.plot(_queens_log[:'2006-12']['month_2'])\n",
    "# plt.plot(_queens_log[:'2006-12']['month_11'])\n",
    "plt.plot(_queens_log['2005-7':'2006-7']['month_12'])\n",
    "plt.axvline(x=pd.to_datetime('2006-01-01'), color = 'r', linestyle = '--')\n"
   ]
  },
  {
   "cell_type": "code",
   "execution_count": null,
   "metadata": {},
   "outputs": [],
   "source": []
  },
  {
   "cell_type": "code",
   "execution_count": null,
   "metadata": {},
   "outputs": [],
   "source": []
  },
  {
   "cell_type": "code",
   "execution_count": null,
   "metadata": {},
   "outputs": [],
   "source": []
  },
  {
   "cell_type": "code",
   "execution_count": null,
   "metadata": {},
   "outputs": [],
   "source": []
  },
  {
   "cell_type": "code",
   "execution_count": null,
   "metadata": {},
   "outputs": [],
   "source": []
  },
  {
   "cell_type": "code",
   "execution_count": null,
   "metadata": {},
   "outputs": [],
   "source": []
  },
  {
   "cell_type": "code",
   "execution_count": null,
   "metadata": {},
   "outputs": [],
   "source": []
  },
  {
   "cell_type": "code",
   "execution_count": 234,
   "metadata": {},
   "outputs": [],
   "source": [
    "train = _queens_log[:'2019-10-31']\n",
    "test = _queens_log['2019-11-01':'2020-02-29']"
   ]
  },
  {
   "cell_type": "code",
   "execution_count": 235,
   "metadata": {},
   "outputs": [
    {
     "data": {
      "text/html": [
       "<div>\n",
       "<style scoped>\n",
       "    .dataframe tbody tr th:only-of-type {\n",
       "        vertical-align: middle;\n",
       "    }\n",
       "\n",
       "    .dataframe tbody tr th {\n",
       "        vertical-align: top;\n",
       "    }\n",
       "\n",
       "    .dataframe thead th {\n",
       "        text-align: right;\n",
       "    }\n",
       "</style>\n",
       "<table border=\"1\" class=\"dataframe\">\n",
       "  <thead>\n",
       "    <tr style=\"text-align: right;\">\n",
       "      <th></th>\n",
       "      <th>QL</th>\n",
       "      <th>month_1</th>\n",
       "      <th>month_2</th>\n",
       "      <th>month_3</th>\n",
       "      <th>month_4</th>\n",
       "      <th>month_5</th>\n",
       "      <th>month_6</th>\n",
       "      <th>month_7</th>\n",
       "      <th>month_8</th>\n",
       "      <th>month_9</th>\n",
       "      <th>month_10</th>\n",
       "      <th>month_11</th>\n",
       "      <th>month_12</th>\n",
       "    </tr>\n",
       "  </thead>\n",
       "  <tbody>\n",
       "    <tr>\n",
       "      <th>2005-01-01</th>\n",
       "      <td>38.831579</td>\n",
       "      <td>5.019051e-01</td>\n",
       "      <td>1.751048e-03</td>\n",
       "      <td>1.249995e-08</td>\n",
       "      <td>2.001347e-16</td>\n",
       "      <td>7.186876e-27</td>\n",
       "      <td>5.788439e-40</td>\n",
       "      <td>1.045650e-55</td>\n",
       "      <td>2.011084e-74</td>\n",
       "      <td>1.653610e-95</td>\n",
       "      <td>3.049578e-119</td>\n",
       "      <td>1.261392e-145</td>\n",
       "      <td>1.170210e-174</td>\n",
       "    </tr>\n",
       "    <tr>\n",
       "      <th>2005-01-02</th>\n",
       "      <td>64.464286</td>\n",
       "      <td>5.501628e-01</td>\n",
       "      <td>2.329049e-03</td>\n",
       "      <td>2.030710e-08</td>\n",
       "      <td>3.971192e-16</td>\n",
       "      <td>1.741797e-26</td>\n",
       "      <td>1.713475e-39</td>\n",
       "      <td>3.780609e-55</td>\n",
       "      <td>8.910216e-74</td>\n",
       "      <td>8.948496e-95</td>\n",
       "      <td>2.015652e-118</td>\n",
       "      <td>1.018321e-144</td>\n",
       "      <td>1.153871e-173</td>\n",
       "    </tr>\n",
       "    <tr>\n",
       "      <th>2005-01-03</th>\n",
       "      <td>47.386585</td>\n",
       "      <td>5.991190e-01</td>\n",
       "      <td>3.077596e-03</td>\n",
       "      <td>3.277478e-08</td>\n",
       "      <td>7.828375e-16</td>\n",
       "      <td>4.193794e-26</td>\n",
       "      <td>5.039022e-39</td>\n",
       "      <td>1.357967e-54</td>\n",
       "      <td>3.921917e-73</td>\n",
       "      <td>4.810820e-94</td>\n",
       "      <td>1.323560e-117</td>\n",
       "      <td>8.167168e-144</td>\n",
       "      <td>1.130325e-172</td>\n",
       "    </tr>\n",
       "    <tr>\n",
       "      <th>2005-01-04</th>\n",
       "      <td>30.100000</td>\n",
       "      <td>6.481672e-01</td>\n",
       "      <td>4.040142e-03</td>\n",
       "      <td>5.255133e-08</td>\n",
       "      <td>1.533114e-15</td>\n",
       "      <td>1.003157e-25</td>\n",
       "      <td>1.472200e-38</td>\n",
       "      <td>4.845835e-54</td>\n",
       "      <td>1.714987e-72</td>\n",
       "      <td>2.569451e-93</td>\n",
       "      <td>8.634230e-117</td>\n",
       "      <td>6.507446e-143</td>\n",
       "      <td>1.100021e-171</td>\n",
       "    </tr>\n",
       "    <tr>\n",
       "      <th>2005-01-05</th>\n",
       "      <td>4.000000</td>\n",
       "      <td>6.966477e-01</td>\n",
       "      <td>5.269069e-03</td>\n",
       "      <td>8.371048e-08</td>\n",
       "      <td>2.982837e-15</td>\n",
       "      <td>2.383871e-25</td>\n",
       "      <td>4.273067e-38</td>\n",
       "      <td>1.717910e-53</td>\n",
       "      <td>7.450326e-72</td>\n",
       "      <td>1.363370e-92</td>\n",
       "      <td>5.595720e-116</td>\n",
       "      <td>5.151121e-142</td>\n",
       "      <td>1.063534e-170</td>\n",
       "    </tr>\n",
       "    <tr>\n",
       "      <th>...</th>\n",
       "      <td>...</td>\n",
       "      <td>...</td>\n",
       "      <td>...</td>\n",
       "      <td>...</td>\n",
       "      <td>...</td>\n",
       "      <td>...</td>\n",
       "      <td>...</td>\n",
       "      <td>...</td>\n",
       "      <td>...</td>\n",
       "      <td>...</td>\n",
       "      <td>...</td>\n",
       "      <td>...</td>\n",
       "      <td>...</td>\n",
       "    </tr>\n",
       "    <tr>\n",
       "      <th>2019-10-27</th>\n",
       "      <td>50.888889</td>\n",
       "      <td>1.168601e-115</td>\n",
       "      <td>4.971256e-93</td>\n",
       "      <td>3.066036e-72</td>\n",
       "      <td>4.241233e-54</td>\n",
       "      <td>1.315863e-38</td>\n",
       "      <td>9.156567e-26</td>\n",
       "      <td>1.429086e-15</td>\n",
       "      <td>6.321083e-08</td>\n",
       "      <td>4.490504e-03</td>\n",
       "      <td>7.154881e-01</td>\n",
       "      <td>2.556898e-01</td>\n",
       "      <td>2.049406e-04</td>\n",
       "    </tr>\n",
       "    <tr>\n",
       "      <th>2019-10-28</th>\n",
       "      <td>87.723636</td>\n",
       "      <td>1.807835e-116</td>\n",
       "      <td>9.331894e-94</td>\n",
       "      <td>7.029749e-73</td>\n",
       "      <td>1.187719e-54</td>\n",
       "      <td>4.500812e-39</td>\n",
       "      <td>3.825357e-26</td>\n",
       "      <td>7.292167e-16</td>\n",
       "      <td>3.952505e-08</td>\n",
       "      <td>3.429533e-03</td>\n",
       "      <td>6.674230e-01</td>\n",
       "      <td>2.913205e-01</td>\n",
       "      <td>2.851968e-04</td>\n",
       "    </tr>\n",
       "    <tr>\n",
       "      <th>2019-10-29</th>\n",
       "      <td>11.215556</td>\n",
       "      <td>2.778455e-117</td>\n",
       "      <td>1.740306e-94</td>\n",
       "      <td>1.601233e-73</td>\n",
       "      <td>3.304358e-55</td>\n",
       "      <td>1.529408e-39</td>\n",
       "      <td>1.587681e-26</td>\n",
       "      <td>3.696638e-16</td>\n",
       "      <td>2.455305e-08</td>\n",
       "      <td>2.602118e-03</td>\n",
       "      <td>6.185176e-01</td>\n",
       "      <td>3.297470e-01</td>\n",
       "      <td>3.942877e-04</td>\n",
       "    </tr>\n",
       "    <tr>\n",
       "      <th>2019-10-30</th>\n",
       "      <td>0.000000</td>\n",
       "      <td>4.242290e-118</td>\n",
       "      <td>3.224286e-95</td>\n",
       "      <td>3.623443e-74</td>\n",
       "      <td>9.132989e-56</td>\n",
       "      <td>5.163071e-40</td>\n",
       "      <td>6.546466e-27</td>\n",
       "      <td>1.861699e-16</td>\n",
       "      <td>1.515273e-08</td>\n",
       "      <td>1.961422e-03</td>\n",
       "      <td>5.694494e-01</td>\n",
       "      <td>3.708026e-01</td>\n",
       "      <td>5.415445e-04</td>\n",
       "    </tr>\n",
       "    <tr>\n",
       "      <th>2019-10-31</th>\n",
       "      <td>25.846154</td>\n",
       "      <td>6.435013e-119</td>\n",
       "      <td>5.934631e-96</td>\n",
       "      <td>8.145926e-75</td>\n",
       "      <td>2.507788e-56</td>\n",
       "      <td>1.731589e-40</td>\n",
       "      <td>2.681653e-27</td>\n",
       "      <td>9.314595e-17</td>\n",
       "      <td>9.290268e-09</td>\n",
       "      <td>1.468816e-03</td>\n",
       "      <td>5.208473e-01</td>\n",
       "      <td>4.142447e-01</td>\n",
       "      <td>7.389366e-04</td>\n",
       "    </tr>\n",
       "  </tbody>\n",
       "</table>\n",
       "<p>5417 rows × 13 columns</p>\n",
       "</div>"
      ],
      "text/plain": [
       "                   QL        month_1       month_2       month_3  \\\n",
       "2005-01-01  38.831579   5.019051e-01  1.751048e-03  1.249995e-08   \n",
       "2005-01-02  64.464286   5.501628e-01  2.329049e-03  2.030710e-08   \n",
       "2005-01-03  47.386585   5.991190e-01  3.077596e-03  3.277478e-08   \n",
       "2005-01-04  30.100000   6.481672e-01  4.040142e-03  5.255133e-08   \n",
       "2005-01-05   4.000000   6.966477e-01  5.269069e-03  8.371048e-08   \n",
       "...               ...            ...           ...           ...   \n",
       "2019-10-27  50.888889  1.168601e-115  4.971256e-93  3.066036e-72   \n",
       "2019-10-28  87.723636  1.807835e-116  9.331894e-94  7.029749e-73   \n",
       "2019-10-29  11.215556  2.778455e-117  1.740306e-94  1.601233e-73   \n",
       "2019-10-30   0.000000  4.242290e-118  3.224286e-95  3.623443e-74   \n",
       "2019-10-31  25.846154  6.435013e-119  5.934631e-96  8.145926e-75   \n",
       "\n",
       "                 month_4       month_5       month_6       month_7  \\\n",
       "2005-01-01  2.001347e-16  7.186876e-27  5.788439e-40  1.045650e-55   \n",
       "2005-01-02  3.971192e-16  1.741797e-26  1.713475e-39  3.780609e-55   \n",
       "2005-01-03  7.828375e-16  4.193794e-26  5.039022e-39  1.357967e-54   \n",
       "2005-01-04  1.533114e-15  1.003157e-25  1.472200e-38  4.845835e-54   \n",
       "2005-01-05  2.982837e-15  2.383871e-25  4.273067e-38  1.717910e-53   \n",
       "...                  ...           ...           ...           ...   \n",
       "2019-10-27  4.241233e-54  1.315863e-38  9.156567e-26  1.429086e-15   \n",
       "2019-10-28  1.187719e-54  4.500812e-39  3.825357e-26  7.292167e-16   \n",
       "2019-10-29  3.304358e-55  1.529408e-39  1.587681e-26  3.696638e-16   \n",
       "2019-10-30  9.132989e-56  5.163071e-40  6.546466e-27  1.861699e-16   \n",
       "2019-10-31  2.507788e-56  1.731589e-40  2.681653e-27  9.314595e-17   \n",
       "\n",
       "                 month_8       month_9       month_10       month_11  \\\n",
       "2005-01-01  2.011084e-74  1.653610e-95  3.049578e-119  1.261392e-145   \n",
       "2005-01-02  8.910216e-74  8.948496e-95  2.015652e-118  1.018321e-144   \n",
       "2005-01-03  3.921917e-73  4.810820e-94  1.323560e-117  8.167168e-144   \n",
       "2005-01-04  1.714987e-72  2.569451e-93  8.634230e-117  6.507446e-143   \n",
       "2005-01-05  7.450326e-72  1.363370e-92  5.595720e-116  5.151121e-142   \n",
       "...                  ...           ...            ...            ...   \n",
       "2019-10-27  6.321083e-08  4.490504e-03   7.154881e-01   2.556898e-01   \n",
       "2019-10-28  3.952505e-08  3.429533e-03   6.674230e-01   2.913205e-01   \n",
       "2019-10-29  2.455305e-08  2.602118e-03   6.185176e-01   3.297470e-01   \n",
       "2019-10-30  1.515273e-08  1.961422e-03   5.694494e-01   3.708026e-01   \n",
       "2019-10-31  9.290268e-09  1.468816e-03   5.208473e-01   4.142447e-01   \n",
       "\n",
       "                 month_12  \n",
       "2005-01-01  1.170210e-174  \n",
       "2005-01-02  1.153871e-173  \n",
       "2005-01-03  1.130325e-172  \n",
       "2005-01-04  1.100021e-171  \n",
       "2005-01-05  1.063534e-170  \n",
       "...                   ...  \n",
       "2019-10-27   2.049406e-04  \n",
       "2019-10-28   2.851968e-04  \n",
       "2019-10-29   3.942877e-04  \n",
       "2019-10-30   5.415445e-04  \n",
       "2019-10-31   7.389366e-04  \n",
       "\n",
       "[5417 rows x 13 columns]"
      ]
     },
     "execution_count": 235,
     "metadata": {},
     "output_type": "execute_result"
    }
   ],
   "source": [
    "train"
   ]
  },
  {
   "cell_type": "code",
   "execution_count": 236,
   "metadata": {},
   "outputs": [],
   "source": [
    "from statsmodels.tsa.statespace.sarimax import SARIMAX"
   ]
  },
  {
   "cell_type": "code",
   "execution_count": 237,
   "metadata": {},
   "outputs": [
    {
     "name": "stderr",
     "output_type": "stream",
     "text": [
      "C:\\Users\\albert\\Anaconda3\\lib\\site-packages\\statsmodels\\tsa\\base\\tsa_model.py:162: ValueWarning: No frequency information was provided, so inferred frequency D will be used.\n",
      "  % freq, ValueWarning)\n"
     ]
    }
   ],
   "source": [
    "exog_train = train.iloc[:,1:]\n",
    "exog_test = test.iloc[:, 1:]\n",
    "\n",
    "model_SARIMAX = SARIMAX(train['QL'], order = (2,0,0), trend = 'n', freq = 'D', exog = exog_train,\n",
    "                       enforce_stationarity=False, enforce_invertibility = False)\n",
    "\n",
    "results = model_SARIMAX.fit(maxiter=1000)\n",
    "\n",
    "pred = results.predict('2019-11-01', '2020-02-29', exog= exog_test)"
   ]
  },
  {
   "cell_type": "code",
   "execution_count": 238,
   "metadata": {},
   "outputs": [
    {
     "data": {
      "text/html": [
       "<table class=\"simpletable\">\n",
       "<caption>SARIMAX Results</caption>\n",
       "<tr>\n",
       "  <th>Dep. Variable:</th>          <td>QL</td>        <th>  No. Observations:  </th>    <td>5417</td>   \n",
       "</tr>\n",
       "<tr>\n",
       "  <th>Model:</th>           <td>SARIMAX(2, 0, 0)</td> <th>  Log Likelihood     </th> <td>-34286.219</td>\n",
       "</tr>\n",
       "<tr>\n",
       "  <th>Date:</th>            <td>Fri, 11 Dec 2020</td> <th>  AIC                </th>  <td>68602.437</td>\n",
       "</tr>\n",
       "<tr>\n",
       "  <th>Time:</th>                <td>09:15:13</td>     <th>  BIC                </th>  <td>68701.391</td>\n",
       "</tr>\n",
       "<tr>\n",
       "  <th>Sample:</th>             <td>01-01-2005</td>    <th>  HQIC               </th>  <td>68636.979</td>\n",
       "</tr>\n",
       "<tr>\n",
       "  <th></th>                   <td>- 10-31-2019</td>   <th>                     </th>      <td> </td>    \n",
       "</tr>\n",
       "<tr>\n",
       "  <th>Covariance Type:</th>        <td>opg</td>       <th>                     </th>      <td> </td>    \n",
       "</tr>\n",
       "</table>\n",
       "<table class=\"simpletable\">\n",
       "<tr>\n",
       "      <td></td>        <th>coef</th>     <th>std err</th>      <th>z</th>      <th>P>|z|</th>  <th>[0.025</th>    <th>0.975]</th>  \n",
       "</tr>\n",
       "<tr>\n",
       "  <th>month_1</th>  <td>   71.3194</td> <td>   44.778</td> <td>    1.593</td> <td> 0.111</td> <td>  -16.445</td> <td>  159.084</td>\n",
       "</tr>\n",
       "<tr>\n",
       "  <th>month_2</th>  <td>   38.4352</td> <td>   91.435</td> <td>    0.420</td> <td> 0.674</td> <td> -140.774</td> <td>  217.645</td>\n",
       "</tr>\n",
       "<tr>\n",
       "  <th>month_3</th>  <td>   15.6258</td> <td>  229.933</td> <td>    0.068</td> <td> 0.946</td> <td> -435.034</td> <td>  466.286</td>\n",
       "</tr>\n",
       "<tr>\n",
       "  <th>month_4</th>  <td>   17.5252</td> <td>  261.315</td> <td>    0.067</td> <td> 0.947</td> <td> -494.643</td> <td>  529.693</td>\n",
       "</tr>\n",
       "<tr>\n",
       "  <th>month_5</th>  <td>   23.5608</td> <td>  213.998</td> <td>    0.110</td> <td> 0.912</td> <td> -395.867</td> <td>  442.988</td>\n",
       "</tr>\n",
       "<tr>\n",
       "  <th>month_6</th>  <td>   30.9694</td> <td>  149.161</td> <td>    0.208</td> <td> 0.836</td> <td> -261.381</td> <td>  323.320</td>\n",
       "</tr>\n",
       "<tr>\n",
       "  <th>month_7</th>  <td>   52.5057</td> <td>  109.883</td> <td>    0.478</td> <td> 0.633</td> <td> -162.861</td> <td>  267.872</td>\n",
       "</tr>\n",
       "<tr>\n",
       "  <th>month_8</th>  <td>   96.5118</td> <td>   82.218</td> <td>    1.174</td> <td> 0.240</td> <td>  -64.632</td> <td>  257.655</td>\n",
       "</tr>\n",
       "<tr>\n",
       "  <th>month_9</th>  <td>  217.8243</td> <td>   43.783</td> <td>    4.975</td> <td> 0.000</td> <td>  132.011</td> <td>  303.637</td>\n",
       "</tr>\n",
       "<tr>\n",
       "  <th>month_10</th> <td>  331.2024</td> <td>   25.613</td> <td>   12.931</td> <td> 0.000</td> <td>  281.001</td> <td>  381.404</td>\n",
       "</tr>\n",
       "<tr>\n",
       "  <th>month_11</th> <td>  511.7395</td> <td>   20.341</td> <td>   25.158</td> <td> 0.000</td> <td>  471.872</td> <td>  551.607</td>\n",
       "</tr>\n",
       "<tr>\n",
       "  <th>month_12</th> <td>  242.8595</td> <td>   28.128</td> <td>    8.634</td> <td> 0.000</td> <td>  187.731</td> <td>  297.988</td>\n",
       "</tr>\n",
       "<tr>\n",
       "  <th>ar.L1</th>    <td>    0.6165</td> <td>    0.004</td> <td>  174.268</td> <td> 0.000</td> <td>    0.610</td> <td>    0.623</td>\n",
       "</tr>\n",
       "<tr>\n",
       "  <th>ar.L2</th>    <td>    0.1862</td> <td>    0.004</td> <td>   42.690</td> <td> 0.000</td> <td>    0.178</td> <td>    0.195</td>\n",
       "</tr>\n",
       "<tr>\n",
       "  <th>sigma2</th>   <td>  1.85e+04</td> <td>   80.139</td> <td>  230.852</td> <td> 0.000</td> <td> 1.83e+04</td> <td> 1.87e+04</td>\n",
       "</tr>\n",
       "</table>\n",
       "<table class=\"simpletable\">\n",
       "<tr>\n",
       "  <th>Ljung-Box (Q):</th>          <td>481.96</td> <th>  Jarque-Bera (JB):  </th> <td>865112.68</td>\n",
       "</tr>\n",
       "<tr>\n",
       "  <th>Prob(Q):</th>                 <td>0.00</td>  <th>  Prob(JB):          </th>   <td>0.00</td>   \n",
       "</tr>\n",
       "<tr>\n",
       "  <th>Heteroskedasticity (H):</th>  <td>0.52</td>  <th>  Skew:              </th>   <td>3.91</td>   \n",
       "</tr>\n",
       "<tr>\n",
       "  <th>Prob(H) (two-sided):</th>     <td>0.00</td>  <th>  Kurtosis:          </th>   <td>64.43</td>  \n",
       "</tr>\n",
       "</table><br/><br/>Warnings:<br/>[1] Covariance matrix calculated using the outer product of gradients (complex-step)."
      ],
      "text/plain": [
       "<class 'statsmodels.iolib.summary.Summary'>\n",
       "\"\"\"\n",
       "                               SARIMAX Results                                \n",
       "==============================================================================\n",
       "Dep. Variable:                     QL   No. Observations:                 5417\n",
       "Model:               SARIMAX(2, 0, 0)   Log Likelihood              -34286.219\n",
       "Date:                Fri, 11 Dec 2020   AIC                          68602.437\n",
       "Time:                        09:15:13   BIC                          68701.391\n",
       "Sample:                    01-01-2005   HQIC                         68636.979\n",
       "                         - 10-31-2019                                         \n",
       "Covariance Type:                  opg                                         \n",
       "==============================================================================\n",
       "                 coef    std err          z      P>|z|      [0.025      0.975]\n",
       "------------------------------------------------------------------------------\n",
       "month_1       71.3194     44.778      1.593      0.111     -16.445     159.084\n",
       "month_2       38.4352     91.435      0.420      0.674    -140.774     217.645\n",
       "month_3       15.6258    229.933      0.068      0.946    -435.034     466.286\n",
       "month_4       17.5252    261.315      0.067      0.947    -494.643     529.693\n",
       "month_5       23.5608    213.998      0.110      0.912    -395.867     442.988\n",
       "month_6       30.9694    149.161      0.208      0.836    -261.381     323.320\n",
       "month_7       52.5057    109.883      0.478      0.633    -162.861     267.872\n",
       "month_8       96.5118     82.218      1.174      0.240     -64.632     257.655\n",
       "month_9      217.8243     43.783      4.975      0.000     132.011     303.637\n",
       "month_10     331.2024     25.613     12.931      0.000     281.001     381.404\n",
       "month_11     511.7395     20.341     25.158      0.000     471.872     551.607\n",
       "month_12     242.8595     28.128      8.634      0.000     187.731     297.988\n",
       "ar.L1          0.6165      0.004    174.268      0.000       0.610       0.623\n",
       "ar.L2          0.1862      0.004     42.690      0.000       0.178       0.195\n",
       "sigma2       1.85e+04     80.139    230.852      0.000    1.83e+04    1.87e+04\n",
       "===================================================================================\n",
       "Ljung-Box (Q):                      481.96   Jarque-Bera (JB):            865112.68\n",
       "Prob(Q):                              0.00   Prob(JB):                         0.00\n",
       "Heteroskedasticity (H):               0.52   Skew:                             3.91\n",
       "Prob(H) (two-sided):                  0.00   Kurtosis:                        64.43\n",
       "===================================================================================\n",
       "\n",
       "Warnings:\n",
       "[1] Covariance matrix calculated using the outer product of gradients (complex-step).\n",
       "\"\"\""
      ]
     },
     "execution_count": 238,
     "metadata": {},
     "output_type": "execute_result"
    }
   ],
   "source": [
    "results.summary()"
   ]
  },
  {
   "cell_type": "code",
   "execution_count": 239,
   "metadata": {},
   "outputs": [
    {
     "data": {
      "text/plain": [
       "[<matplotlib.lines.Line2D at 0x24a8e888>]"
      ]
     },
     "execution_count": 239,
     "metadata": {},
     "output_type": "execute_result"
    },
    {
     "data": {
      "image/png": "[encoded data removed]",
      "text/plain": [
       "<Figure size 1008x720 with 1 Axes>"
      ]
     },
     "metadata": {
      "needs_background": "light"
     },
     "output_type": "display_data"
    }
   ],
   "source": [
    "plt.figure(figsize=(14,10))\n",
    "plt.plot(pred)\n",
    "plt.plot(test['QL'])\n"
   ]
  },
  {
   "cell_type": "code",
   "execution_count": null,
   "metadata": {},
   "outputs": [],
   "source": []
  }
 ],
 "metadata": {
  "kernelspec": {
   "display_name": "Python 3",
   "language": "python",
   "name": "python3"
  },
  "language_info": {
   "codemirror_mode": {
    "name": "ipython",
    "version": 3
   },
   "file_extension": ".py",
   "mimetype": "text/x-python",
   "name": "python",
   "nbconvert_exporter": "python",
   "pygments_lexer": "ipython3",
   "version": "3.7.4"
  }
 },
 "nbformat": 4,
 "nbformat_minor": 4
}
